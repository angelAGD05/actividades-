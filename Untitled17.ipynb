{
  "nbformat": 4,
  "nbformat_minor": 0,
  "metadata": {
    "colab": {
      "provenance": [],
      "authorship_tag": "ABX9TyO7FBP0mY6IKau7rP+GG1jb",
      "include_colab_link": true
    },
    "kernelspec": {
      "name": "python3",
      "display_name": "Python 3"
    },
    "language_info": {
      "name": "python"
    }
  },
  "cells": [
    {
      "cell_type": "markdown",
      "metadata": {
        "id": "view-in-github",
        "colab_type": "text"
      },
      "source": [
        "<a href=\"https://colab.research.google.com/github/angelAGD05/actividades-/blob/main/Untitled17.ipynb\" target=\"_parent\"><img src=\"https://colab.research.google.com/assets/colab-badge.svg\" alt=\"Open In Colab\"/></a>"
      ]
    },
    {
      "cell_type": "code",
      "execution_count": null,
      "metadata": {
        "id": "3wLlMyck2gzt"
      },
      "outputs": [],
      "source": [
        "import pickle\n",
        "lista = [\"apple\", \"grapes\", \"pear\"]  # Evita usar `list` como nombre de variable\n",
        "with open(\"lst.pkl\", 'wb') as file:\n",
        "    pickle.dump(lista, file)\n",
        "# lista guardado en un archivo serializando la lista"
      ]
    },
    {
      "cell_type": "code",
      "source": [
        "import pickle\n",
        "with open(\"lst.pkl\", 'rb') as file:\n",
        "    retrieved_list = pickle.load(file)\n",
        "print(retrieved_list)\n",
        "# lista recuperada del archivo serializando donde se encuentra la lista"
      ],
      "metadata": {
        "colab": {
          "base_uri": "https://localhost:8080/"
        },
        "id": "JYIi6WrT2mRU",
        "outputId": "49d57a1a-1bbc-4da6-f478-a2887f40ce7b"
      },
      "execution_count": null,
      "outputs": [
        {
          "output_type": "stream",
          "name": "stdout",
          "text": [
            "['apple', 'grapes', 'pear']\n"
          ]
        }
      ]
    },
    {
      "cell_type": "code",
      "source": [
        "import pickle\n",
        "import os\n",
        "\n",
        "\n",
        "class Student:\n",
        "    def __init__(self, student_id, name, age, gender, grade, email, phone, address):\n",
        "        self.student_id = student_id\n",
        "        self.name = name\n",
        "        self.age = age\n",
        "        self.gender = gender\n",
        "        self.grade = grade\n",
        "        self.email = email\n",
        "        self.phone = phone\n",
        "        self.address = address\n",
        "\n",
        "    def __str__(self):\n",
        "        return (f\"ID: {self.student_id}, Name: {self.name}, Age: {self.age}, \"\n",
        "                f\"Gender: {self.gender}, Grade: {self.grade}, Email: {self.email}, \"\n",
        "                f\"Phone: {self.phone}, Address: {self.address}\")\n",
        "\n",
        "\n",
        "class StudentCRUD:\n",
        "    FILE_NAME = 'students.pkl'\n",
        "\n",
        "    def __init__(self):\n",
        "        self.students = self.load_students()\n",
        "\n",
        "    def load_students(self):\n",
        "        \"\"\"Carga estudiantes desde el archivo pickle.\"\"\"\n",
        "        if os.path.exists(self.FILE_NAME):\n",
        "            try:\n",
        "                with open(self.FILE_NAME, 'rb') as f:\n",
        "                    return pickle.load(f)\n",
        "            except (pickle.PickleError, EOFError):\n",
        "                print(\"⚠️ Error al leer el archivo de estudiantes. Se creará uno nuevo.\")\n",
        "                return []\n",
        "        return []\n",
        "\n",
        "    def save_students(self):\n",
        "        \"\"\"Guarda estudiantes en el archivo pickle.\"\"\"\n",
        "        try:\n",
        "            with open(self.FILE_NAME, 'wb') as f:\n",
        "                pickle.dump(self.students, f)\n",
        "        except (pickle.PickleError, IOError) as e:\n",
        "            print(f\"❌ Error al guardar estudiantes: {str(e)}\")\n",
        "\n",
        "    def create_student(self, student):\n",
        "        \"\"\"Agrega un nuevo estudiante.\"\"\"\n",
        "        if self.read_student(student.student_id) is None:\n",
        "            self.students.append(student)\n",
        "            self.save_students()\n",
        "            print(f\"\\n✅ Estudiante '{student.name}' agregado correctamente.\")\n",
        "        else:\n",
        "            print(f\"❌ Ya existe un estudiante con ID {student.student_id}\")\n",
        "\n",
        "    def read_student(self, student_id):\n",
        "        \"\"\"Obtiene un estudiante por ID.\"\"\"\n",
        "        for student in self.students:\n",
        "            if student.student_id == student_id:\n",
        "                return student\n",
        "        return None\n",
        "\n",
        "    def update_student(self, student_id, **kwargs):\n",
        "        \"\"\"Actualiza la información de un estudiante.\"\"\"\n",
        "        student = self.read_student(student_id)\n",
        "        if student:\n",
        "            for key, value in kwargs.items():\n",
        "                if hasattr(student, key):\n",
        "                    setattr(student, key, value)\n",
        "            self.save_students()\n",
        "            print(f\"✅ Estudiante {student_id} actualizado correctamente.\")\n",
        "        else:\n",
        "            print(f\"❌ No se encontró el estudiante con ID {student_id}\")\n",
        "\n",
        "    def delete_student(self, student_id):\n",
        "        \"\"\"Elimina un estudiante por ID.\"\"\"\n",
        "        student = self.read_student(student_id)\n",
        "        if student:\n",
        "            self.students.remove(student)\n",
        "            self.save_students()\n",
        "            print(f\"🗑️ Estudiante {student_id} eliminado correctamente.\")\n",
        "        else:\n",
        "            print(f\"❌ No se encontró el estudiante con ID {student_id}\")\n",
        "\n",
        "    def list_students(self):\n",
        "        \"\"\"Lista todos los estudiantes.\"\"\"\n",
        "        if self.students:\n",
        "            print(\"\\n📋 Lista de estudiantes:\")\n",
        "            for student in self.students:\n",
        "                print(student)\n",
        "        else:\n",
        "            print(\"⚠️ No hay estudiantes registrados.\")\n",
        "\n",
        "\n",
        "\n",
        "if __name__ == '__main__':\n",
        "    crud = StudentCRUD()\n",
        "\n",
        "\n",
        "    student1 = Student(1, \"Ana López\", 20, \"Femenino\", \"A\",\n",
        "                       \"ana@example.com\", \"5551234567\", \"Calle Principal 123\")\n",
        "    student2 = Student(2, \"Carlos Ruiz\", 22, \"Masculino\", \"B\",\n",
        "                       \"carlos@example.com\", \"5557654321\", \"Avenida Central 456\")\n",
        "\n",
        "\n",
        "    crud.create_student(student1)\n",
        "    crud.create_student(student2)\n",
        "\n",
        "    print(\"\\n--- Listado inicial ---\")\n",
        "    crud.list_students()\n",
        "\n",
        "    print(\"\\n--- Actualización ---\")\n",
        "    crud.update_student(1, grade=\"A+\", phone=\"5551112222\")\n",
        "\n",
        "    print(\"\\n--- Consulta individual ---\")\n",
        "    print(crud.read_student(1))\n",
        "\n",
        "    print(\"\\n--- Eliminación ---\")\n",
        "    crud.delete_student(2)\n",
        "\n",
        "    print(\"\\n--- Listado final ---\")\n",
        "    crud.list_students()"
      ],
      "metadata": {
        "colab": {
          "base_uri": "https://localhost:8080/"
        },
        "id": "wwcCtTp93Fpz",
        "outputId": "b69ddc5a-7d9f-4ad4-fc29-6c28f9e8dccb"
      },
      "execution_count": null,
      "outputs": [
        {
          "output_type": "stream",
          "name": "stdout",
          "text": [
            "\n",
            "✅ Estudiante 'Ana López' agregado correctamente.\n",
            "\n",
            "✅ Estudiante 'Carlos Ruiz' agregado correctamente.\n",
            "\n",
            "--- Listado inicial ---\n",
            "\n",
            "📋 Lista de estudiantes:\n",
            "ID: 1, Name: Ana López, Age: 20, Gender: Femenino, Grade: A, Email: ana@example.com, Phone: 5551234567, Address: Calle Principal 123\n",
            "ID: 2, Name: Carlos Ruiz, Age: 22, Gender: Masculino, Grade: B, Email: carlos@example.com, Phone: 5557654321, Address: Avenida Central 456\n",
            "\n",
            "--- Actualización ---\n",
            "✅ Estudiante 1 actualizado correctamente.\n",
            "\n",
            "--- Consulta individual ---\n",
            "ID: 1, Name: Ana López, Age: 20, Gender: Femenino, Grade: A+, Email: ana@example.com, Phone: 5551112222, Address: Calle Principal 123\n",
            "\n",
            "--- Eliminación ---\n",
            "🗑️ Estudiante 2 eliminado correctamente.\n",
            "\n",
            "--- Listado final ---\n",
            "\n",
            "📋 Lista de estudiantes:\n",
            "ID: 1, Name: Ana López, Age: 20, Gender: Femenino, Grade: A+, Email: ana@example.com, Phone: 5551112222, Address: Calle Principal 123\n"
          ]
        }
      ]
    },
    {
      "cell_type": "code",
      "source": [],
      "metadata": {
        "id": "7UviwuA63Nmj"
      },
      "execution_count": null,
      "outputs": []
    }
  ]
}