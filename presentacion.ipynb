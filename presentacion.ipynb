{
  "nbformat": 4,
  "nbformat_minor": 0,
  "metadata": {
    "colab": {
      "provenance": [],
      "authorship_tag": "ABX9TyNYXdyetc9pqnYh4vk55qyr",
      "include_colab_link": true
    },
    "kernelspec": {
      "name": "python3",
      "display_name": "Python 3"
    },
    "language_info": {
      "name": "python"
    }
  },
  "cells": [
    {
      "cell_type": "markdown",
      "metadata": {
        "id": "view-in-github",
        "colab_type": "text"
      },
      "source": [
        "<a href=\"https://colab.research.google.com/github/angelAGD05/actividades-/blob/main/presentacion.ipynb\" target=\"_parent\"><img src=\"https://colab.research.google.com/assets/colab-badge.svg\" alt=\"Open In Colab\"/></a>"
      ]
    },
    {
      "cell_type": "code",
      "execution_count": 3,
      "metadata": {
        "colab": {
          "base_uri": "https://localhost:8080/"
        },
        "id": "i7NmWG2oZHbf",
        "outputId": "9d86cb66-3ce0-45ff-9dfb-d3e52f6f169d"
      },
      "outputs": [
        {
          "output_type": "stream",
          "name": "stdout",
          "text": [
            "Dra. Martínez está enseñando el curso de Programación Orientada a Objetos.\n"
          ]
        }
      ],
      "source": [
        "#ejemplo asociacion\n",
        "class Profesor:\n",
        "    def __init__(self, nombre):\n",
        "        self.nombre = nombre\n",
        "\n",
        "    def enseñar(self, curso):\n",
        "        print(f\"{self.nombre} está enseñando el curso de {curso.nombre}.\")\n",
        "\n",
        "\n",
        "class Curso:\n",
        "    def __init__(self, nombre):\n",
        "        self.nombre = nombre\n",
        "\n",
        "\n",
        "\n",
        "profesor1 = Profesor(\"Dra. Martínez\")\n",
        "curso1 = Curso(\"Programación Orientada a Objetos\")\n",
        "\n",
        "\n",
        "profesor1.enseñar(curso1)"
      ]
    },
    {
      "cell_type": "code",
      "source": [
        "#ejemplo agregacion\n",
        "class Empleado:\n",
        "    def __init__(self, nombre):\n",
        "        self.nombre = nombre\n",
        "\n",
        "    def mostrar(self):\n",
        "        print(f\"Empleado: {self.nombre}\")\n",
        "\n",
        "\n",
        "class Departamento:\n",
        "    def __init__(self, nombre):\n",
        "        self.nombre = nombre\n",
        "        self.empleados = []\n",
        "\n",
        "    def agregar_empleado(self, empleado):\n",
        "        self.empleados.append(empleado)\n",
        "\n",
        "    def listar_empleados(self):\n",
        "        print(f\"Departamento: {self.nombre}\")\n",
        "        for emp in self.empleados:\n",
        "            emp.mostrar()\n",
        "\n",
        "\n",
        "empleado1 = Empleado(\"Ana Gómez\")\n",
        "empleado2 = Empleado(\"Luis Torres\")\n",
        "\n",
        "departamento_ti = Departamento(\"Tecnologías de la Información\")\n",
        "\n",
        "departamento_ti.agregar_empleado(empleado1)\n",
        "departamento_ti.agregar_empleado(empleado2)\n",
        "\n",
        "departamento_ti.listar_empleados()\n"
      ],
      "metadata": {
        "colab": {
          "base_uri": "https://localhost:8080/"
        },
        "id": "nAXPq9KXamB-",
        "outputId": "ecca38d3-6a52-4a37-d305-a820fa870fb1"
      },
      "execution_count": 4,
      "outputs": [
        {
          "output_type": "stream",
          "name": "stdout",
          "text": [
            "Departamento: Tecnologías de la Información\n",
            "Empleado: Ana Gómez\n",
            "Empleado: Luis Torres\n"
          ]
        }
      ]
    },
    {
      "cell_type": "code",
      "source": [
        "#ejemplo composicion\n",
        "class Corazon:\n",
        "    def __init__(self):\n",
        "        self.latidos_por_minuto = 72\n",
        "\n",
        "    def latir(self):\n",
        "        print(f\" El corazón late a {self.latidos_por_minuto} bpm.\")\n",
        "\n",
        "\n",
        "class Persona:\n",
        "    def __init__(self, nombre):\n",
        "        self.nombre = nombre\n",
        "        self.corazon = Corazon()\n",
        "\n",
        "    def vivir(self):\n",
        "        print(f\"{self.nombre} está vivo.\")\n",
        "        self.corazon.latir()\n",
        "\n",
        "\n",
        "\n",
        "persona1 = Persona(\"Carlos Méndez\")\n",
        "persona1.vivir()"
      ],
      "metadata": {
        "colab": {
          "base_uri": "https://localhost:8080/"
        },
        "id": "5q2oULpgmc90",
        "outputId": "94241fcf-cb73-4b64-9d6c-26d20a30e814"
      },
      "execution_count": 5,
      "outputs": [
        {
          "output_type": "stream",
          "name": "stdout",
          "text": [
            "Carlos Méndez está vivo.\n",
            " El corazón late a 72 bpm.\n"
          ]
        }
      ]
    },
    {
      "cell_type": "code",
      "source": [
        "class Documento:\n",
        "    def __init__(self, contenido):\n",
        "        self.contenido = contenido\n",
        "\n",
        "\n",
        "class Impresora:\n",
        "    def imprimir(self, documento):\n",
        "        print(\" Imprimiendo documento...\")\n",
        "        print(documento.contenido)\n",
        "\n",
        "\n",
        "doc = Documento(\"Este es el informe mensual del proyecto.\")\n",
        "\n",
        "impresora = Impresora()\n",
        "\n",
        "impresora.imprimir(doc)"
      ],
      "metadata": {
        "colab": {
          "base_uri": "https://localhost:8080/"
        },
        "id": "_P40EWOzq1Yl",
        "outputId": "29883b5f-8f29-4e0a-b8b2-8ada401dfd8a"
      },
      "execution_count": 7,
      "outputs": [
        {
          "output_type": "stream",
          "name": "stdout",
          "text": [
            " Imprimiendo documento...\n",
            "Este es el informe mensual del proyecto.\n"
          ]
        }
      ]
    },
    {
      "cell_type": "code",
      "source": [
        "#ejemplo de realizacion\n",
        "from abc import ABC, abstractmethod\n",
        "\n",
        "class Vehiculo(ABC):\n",
        "    @abstractmethod\n",
        "    def arrancar(self):\n",
        "        pass\n",
        "\n",
        "    @abstractmethod\n",
        "    def detener(self):\n",
        "        pass\n",
        "\n",
        "class Auto(Vehiculo):\n",
        "    def arrancar(self):\n",
        "        print(\" El auto ha arrancado.\")\n",
        "\n",
        "    def detener(self):\n",
        "        print(\" El auto se ha detenido.\")\n",
        "\n",
        "mi_auto = Auto()\n",
        "mi_auto.arrancar()\n",
        "mi_auto.detener()\n"
      ],
      "metadata": {
        "colab": {
          "base_uri": "https://localhost:8080/"
        },
        "id": "nCOI9JqBv1Rs",
        "outputId": "7b646a4b-1ba4-46da-da75-55cecca8d432"
      },
      "execution_count": 9,
      "outputs": [
        {
          "output_type": "stream",
          "name": "stdout",
          "text": [
            " El auto ha arrancado.\n",
            " El auto se ha detenido.\n"
          ]
        }
      ]
    },
    {
      "cell_type": "code",
      "source": [
        "#ejemplo de colaboracion\n",
        "class Cliente:\n",
        "    def __init__(self, nombre):\n",
        "        self.nombre = nombre\n",
        "\n",
        "    def hacer_pedido(self, restaurante, comida):\n",
        "        print(f\"{self.nombre} hace un pedido de {comida}.\")\n",
        "        restaurante.recibir_pedido(comida, self)\n",
        "\n",
        "\n",
        "class Restaurante:\n",
        "    def __init__(self, nombre):\n",
        "        self.nombre = nombre\n",
        "        self.cocinero = Cocinero(\"María\")\n",
        "\n",
        "    def recibir_pedido(self, comida, cliente):\n",
        "        print(f\"{self.nombre} recibe el pedido de {comida}.\")\n",
        "        self.cocinero.preparar_comida(comida)\n",
        "        self.entregar_comida(comida, cliente)\n",
        "\n",
        "    def entregar_comida(self, comida, cliente):\n",
        "        print(f\"{self.nombre} entrega {comida} a {cliente.nombre}.\\n\")\n",
        "\n",
        "\n",
        "class Cocinero:\n",
        "    def __init__(self, nombre):\n",
        "        self.nombre = nombre\n",
        "\n",
        "    def preparar_comida(self, comida):\n",
        "        print(f\" {self.nombre} está preparando {comida}...\")\n",
        "\n",
        "\n",
        "cliente = Cliente(\"Carlos\")\n",
        "restaurante = Restaurante(\"El Buen Sabor\")\n",
        "\n",
        "cliente.hacer_pedido(restaurante, \"pasta\")"
      ],
      "metadata": {
        "colab": {
          "base_uri": "https://localhost:8080/"
        },
        "id": "DBuIY52G9uk4",
        "outputId": "871abfca-b6c7-44b9-d84c-12019b55da7e"
      },
      "execution_count": 11,
      "outputs": [
        {
          "output_type": "stream",
          "name": "stdout",
          "text": [
            "Carlos hace un pedido de pasta.\n",
            "El Buen Sabor recibe el pedido de pasta.\n",
            " María está preparando pasta...\n",
            "El Buen Sabor entrega pasta a Carlos.\n",
            "\n"
          ]
        }
      ]
    },
    {
      "cell_type": "code",
      "source": [
        "class Televisor:\n",
        "    def encender(self):\n",
        "        print(\"El televisor está encendido.\")\n",
        "\n",
        "    def apagar(self):\n",
        "        print(\"El televisor está apagado.\")\n",
        "\n",
        "\n",
        "class ControlRemoto:\n",
        "    def __init__(self, dispositivo):\n",
        "        self.dispositivo = dispositivo\n",
        "\n",
        "    def presionar_boton_encendido(self):\n",
        "        print(\"Botón de encendido presionado.\")\n",
        "        self.dispositivo.encender()\n",
        "\n",
        "    def presionar_boton_apagado(self):\n",
        "        print(\"Botón de apagado presionado.\")\n",
        "        self.dispositivo.apagar()\n",
        "tv = Televisor()\n",
        "control = ControlRemoto(tv)\n",
        "\n",
        "control.presionar_boton_encendido()\n",
        "control.presionar_boton_apagado()"
      ],
      "metadata": {
        "colab": {
          "base_uri": "https://localhost:8080/"
        },
        "id": "8fd_PFJdEzyy",
        "outputId": "009cfcb1-2dad-4873-b739-8000756586e7"
      },
      "execution_count": 13,
      "outputs": [
        {
          "output_type": "stream",
          "name": "stdout",
          "text": [
            "Botón de encendido presionado.\n",
            "El televisor está encendido.\n",
            "Botón de apagado presionado.\n",
            "El televisor está apagado.\n"
          ]
        }
      ]
    }
  ]
}